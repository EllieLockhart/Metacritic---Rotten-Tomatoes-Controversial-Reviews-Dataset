{
  "cells": [
    {
      "cell_type": "markdown",
      "metadata": {},
      "source": [
        "# Individualize Reviews from Bulk CSV to JSON\n",
        "This script is designed to create a set of files that can be sent to blob or other bulk storage in JSON format from the bulk CSVs, with each review as a valid JSON file containing one record."
      ]
    },
    {
      "cell_type": "code",
      "execution_count": 47,
      "metadata": {
        "dotnet_interactive": {
          "language": "csharp"
        }
      },
      "outputs": [],
      "source": [
        "import os\r\n",
        "import pandas as pd\r\n",
        "import glob\r\n",
        "import spacy"
      ]
    },
    {
      "cell_type": "code",
      "execution_count": 48,
      "metadata": {},
      "outputs": [],
      "source": [
        "os.chdir('../csv')"
      ]
    },
    {
      "cell_type": "code",
      "execution_count": 49,
      "metadata": {
        "dotnet_interactive": {
          "language": "csharp"
        }
      },
      "outputs": [],
      "source": [
        "csv_dataframes = []\r\n",
        "list_of_csvs = glob.glob('*.csv')\r\n",
        "for csv_file in list_of_csvs:\r\n",
        "    csv_dataframes.append( pd.read_csv(csv_file))"
      ]
    },
    {
      "cell_type": "code",
      "execution_count": 50,
      "metadata": {},
      "outputs": [],
      "source": [
        "column_names = ['r_id', 'of_title', 'r_date', 'score', 'review', 'is_english']\r\n",
        "for review_set in csv_dataframes:\r\n",
        "    review_set.columns = column_names"
      ]
    },
    {
      "cell_type": "code",
      "execution_count": 51,
      "metadata": {},
      "outputs": [],
      "source": [
        "for review_set in csv_dataframes:\r\n",
        "    review_set['r_date'] = pd.to_datetime(review_set['r_date'])"
      ]
    },
    {
      "cell_type": "code",
      "execution_count": 52,
      "metadata": {},
      "outputs": [],
      "source": [
        "# initialize the empty lists for the records to be transformed later\r\n",
        "spacy_tokens_list_of_lists = [ ]\r\n",
        "spacy_filtered_tokens_list_of_lists = [ ]\r\n",
        "list_of_lemma_lists = [ ]\r\n",
        "sentiment_polarity_list = [ ]\r\n",
        "lists_of_named_entities = [ ] "
      ]
    },
    {
      "cell_type": "code",
      "execution_count": null,
      "metadata": {},
      "outputs": [],
      "source": [
        "nlp = spacy.load(\"en_core_web_sm\")\r\n",
        "for review_set in csv_dataframes:\r\n",
        "    for index, review in review_set.iterrows():\r\n",
        "        try:\r\n",
        "            text_to_analyze_1 = review['review']\r\n",
        "            analyze_1 = nlp(text_to_analyze_1)\r\n",
        "            # create a list of all tokens for this individual review\r\n",
        "            token_list = [token for token in analyze_1]\r\n",
        "            # add the tokens to the master list of list of unfiltered tokens\r\n",
        "            spacy_tokens_list_of_lists += token_list\r\n",
        "            # remove stop words \r\n",
        "            filtered_tokens = [token for token in analyze_1 if not token.is_stop]\r\n",
        "            spacy_filtered_tokens_list_of_lists += filtered_tokens\r\n",
        "            lemmas = [\r\n",
        "                f'Token: {token}, lemma: {token.lemma_}'\r\n",
        "                for token in filtered_tokens\r\n",
        "            ]\r\n",
        "            list_of_lemma_lists += lemmas \r\n",
        "        except Exception as e:\r\n",
        "            print(e)"
      ]
    },
    {
      "cell_type": "code",
      "execution_count": null,
      "metadata": {},
      "outputs": [],
      "source": []
    }
  ],
  "metadata": {
    "kernelspec": {
      "display_name": "Python 3.8.5 64-bit ('base': conda)",
      "metadata": {
        "interpreter": {
          "hash": "dd8b4627e074cb7b222ce12ea1bf16957eac76843d7faa182008e73864b28ff8"
        }
      },
      "name": "python3"
    },
    "language_info": {
      "codemirror_mode": {
        "name": "ipython",
        "version": 3
      },
      "file_extension": ".py",
      "mimetype": "text/x-python",
      "name": "python",
      "nbconvert_exporter": "python",
      "pygments_lexer": "ipython3",
      "version": "3.8.5"
    }
  },
  "nbformat": 4,
  "nbformat_minor": 4
}