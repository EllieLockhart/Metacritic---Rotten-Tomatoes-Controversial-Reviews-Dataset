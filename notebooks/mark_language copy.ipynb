{
  "cells": [
    {
      "cell_type": "markdown",
      "metadata": {},
      "source": [
        "# Individualize Reviews from Bulk CSV to JSON\n",
        "This script is designed to create a set of files that can be sent to blob or other bulk storage in JSON format from the bulk CSVs, with each review as a valid JSON file containing one record."
      ]
    },
    {
      "cell_type": "code",
      "execution_count": 7,
      "metadata": {
        "dotnet_interactive": {
          "language": "csharp"
        }
      },
      "outputs": [],
      "source": [
        "import os\r\n",
        "import pandas as pd\r\n",
        "import glob"
      ]
    },
    {
      "cell_type": "code",
      "execution_count": 8,
      "metadata": {},
      "outputs": [],
      "source": [
        "os.chdir('../csv')"
      ]
    },
    {
      "cell_type": "code",
      "execution_count": 12,
      "metadata": {
        "dotnet_interactive": {
          "language": "csharp"
        }
      },
      "outputs": [],
      "source": [
        "csv_dataframes = []\r\n",
        "list_of_csvs = glob.glob('*.csv')\r\n",
        "for csv_file in list_of_csvs:\r\n",
        "    csv_dataframes.append( pd.read_csv(csv_file))"
      ]
    },
    {
      "cell_type": "code",
      "execution_count": 15,
      "metadata": {},
      "outputs": [],
      "source": [
        "for review_set in csv_dataframes:\r\n",
        "    for review in review_set.index:\r\n",
        "        review_set.loc[review].to_json(\"../json/review{}.json\".format(review))"
      ]
    }
  ],
  "metadata": {
    "kernelspec": {
      "display_name": "Python 3.7.8 64-bit",
      "metadata": {
        "interpreter": {
          "hash": "57baa5815c940fdaff4d14510622de9616cae602444507ba5d0b6727c008cbd6"
        }
      },
      "name": "python3"
    },
    "language_info": {
      "codemirror_mode": {
        "name": "ipython",
        "version": 3
      },
      "file_extension": ".py",
      "mimetype": "text/x-python",
      "name": "python",
      "nbconvert_exporter": "python",
      "pygments_lexer": "ipython3",
      "version": "3.8.5"
    }
  },
  "nbformat": 4,
  "nbformat_minor": 4
}