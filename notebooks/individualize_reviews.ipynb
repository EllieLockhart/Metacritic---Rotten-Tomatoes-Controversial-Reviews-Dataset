{
 "cells": [
  {
   "cell_type": "markdown",
   "metadata": {},
   "source": [
    "## Language Identifier Script\r\n",
    "This script is designed to use the psycopg2 Python driver and the langdetect library (must be installed from pip or from conda-forge) to identify which reviews in a selected table are not in English and mark them so they can be analyzed separately.\r\n",
    "\r\n",
    "Currently, the somewhat inelegant solution for deciding which database of reviews is queried is using a find-replace in your editor of choice to name the database. Ideally this will be integrated with an API of some sort, but is currently sufficient for maintaining the dataset.\r\n",
    "\r\n",
    "This script is included for purposes of clarity in demonstrating how the dataset is assembled and managed.\r\n",
    "\r\n",
    "This script has been designed to run in an Anaconda/miniconda virtual environment running Python 3.7.9 with the psycopg2 library (available in all conda channels) and langdetect (available from conda-forge). It will likely work if converted to a script and in other Python versions, but I cannot make any assurances.\r\n",
    "\r\n",
    "It should be noted that the database interface could be more optimized - this script was written with the assumption of lots of processor time to run scripts, to optimize time spent coding in order to get to analysis. There are definitely faster ways to update the database than doing so one row at a time. The script also does not take advantage of multithreading."
   ]
  },
  {
   "cell_type": "code",
   "execution_count": null,
   "metadata": {
    "collapsed": false,
    "pycharm": {
     "name": "#%%\n"
    }
   },
   "outputs": [],
   "source": [
    "import psycopg2\n",
    "import langdetect"
   ]
  },
  {
   "cell_type": "code",
   "execution_count": null,
   "metadata": {
    "collapsed": false,
    "pycharm": {
     "name": "#%%\n"
    }
   },
   "outputs": [],
   "source": [
    "try:\r\n",
    "    connection = psycopg2.connect() # add your database connection details here\r\n",
    "    cursor = connection.cursor()\r\n",
    "    cursor_2 = connection.cursor()\r\n",
    "    print('Established connection with the database.')\r\n",
    "except Exception as e:\r\n",
    "    print('exception')\r\n",
    "    print(e)"
   ]
  },
  {
   "cell_type": "code",
   "execution_count": null,
   "metadata": {
    "collapsed": false,
    "pycharm": {
     "name": "#%%\n"
    }
   },
   "outputs": [],
   "source": [
    "non_english_reviews = [ ]\r\n",
    "\r\n",
    "cursor.execute('SELECT r_id, review FROM tlj_reviews')\r\n",
    "\r\n",
    "for row in cursor:\r\n",
    "    try:\r\n",
    "        if langdetect.detect(row[1]) == 'en':\r\n",
    "            print(F'Review {row[0]} is English')\r\n",
    "        else:\r\n",
    "            print(F'Review {row[0]} does not appear to be in English; excluding from dataset.')\r\n",
    "            non_english_reviews.append(row[0])\r\n",
    "    except:\r\n",
    "            print(F'Review {row[0]} does not appear to be in English or may be empty; excluding from dataset.')\r\n",
    "            non_english_reviews.append(row[0]) "
   ]
  },
  {
   "cell_type": "code",
   "execution_count": null,
   "metadata": {
    "collapsed": false,
    "pycharm": {
     "name": "#%%\n"
    }
   },
   "outputs": [],
   "source": [
    "cursor.execute('SELECT r_id, is_english FROM tlj_reviews')\r\n",
    "for row in cursor:\r\n",
    "    try:\r\n",
    "        if row[0] in non_english_reviews:\r\n",
    "            cursor_2.execute(\"UPDATE tlj_reviews SET is_english = FALSE WHERE r_id = (%s);\", (row[0], ))\r\n",
    "            print(F'Marked {row[0]} as probably not in English.')\r\n",
    "            connection.commit()\r\n",
    "        else:\r\n",
    "            cursor_2.execute(\"UPDATE tlj_reviews SET is_english = TRUE WHERE r_id = (%s);\", (row[0], ))\r\n",
    "            connection.commit()\r\n",
    "    except Exception as e:\r\n",
    "        print(F'Row {row[0]} could not be updated.') \r\n",
    "        print(e)"
   ]
  }
 ],
 "metadata": {
  "kernelspec": {
   "display_name": "Python 3.7.9 64-bit ('dbwork': conda)",
   "metadata": {
    "interpreter": {
     "hash": "e1d59ca8816c297ce3be25238c595915d567276f63d7114a9c2380eca00271a8"
    }
   },
   "name": "python3"
  },
  "language_info": {
   "codemirror_mode": {
    "name": "ipython",
    "version": 3
   },
   "file_extension": ".py",
   "mimetype": "text/x-python",
   "name": "python",
   "nbconvert_exporter": "python",
   "pygments_lexer": "ipython3",
   "version": "3.7.9"
  }
 },
 "nbformat": 4,
 "nbformat_minor": 0
}